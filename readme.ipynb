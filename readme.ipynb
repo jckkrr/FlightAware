{
 "cells": [
  {
   "cell_type": "raw",
   "id": "d67b9d72-f2f6-4881-82da-03f572819550",
   "metadata": {},
   "source": [
    "### FLIGHT AWARE SCRARER\n",
    "\n",
    "Scrapes basic airport arrivals data from flightaware.com\n",
    "\n",
    "get_latest_log.ipynb is where the scraping happens. \n",
    "\n",
    "It needs to be fed airport codes - of the four-letter ICAO variety.\n",
    "\n",
    "airport_codes_and_coordinates.ipynb scrapes these codes from fallingrain.com\n",
    "\n",
    "Currently set to scrape a week's data per airport, though this is an approximation at this stage. \n",
    "\n",
    "CSV log of each airports arrival is saved into CSVs folder, where you will also find the script to map it out."
   ]
  }
 ],
 "metadata": {
  "kernelspec": {
   "display_name": "Python 3",
   "language": "python",
   "name": "python3"
  },
  "language_info": {
   "codemirror_mode": {
    "name": "ipython",
    "version": 3
   },
   "file_extension": ".py",
   "mimetype": "text/x-python",
   "name": "python",
   "nbconvert_exporter": "python",
   "pygments_lexer": "ipython3",
   "version": "3.9.4"
  }
 },
 "nbformat": 4,
 "nbformat_minor": 5
}
